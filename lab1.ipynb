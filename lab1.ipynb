{
 "cells": [
  {
   "cell_type": "code",
   "execution_count": 4,
   "metadata": {},
   "outputs": [
    {
     "name": "stdout",
     "output_type": "stream",
     "text": [
      "Mean is: 0.253831565373904\n",
      "Variance of the sum is: 51.545711182278055\n"
     ]
    },
    {
     "data": {
      "image/png": "[encoded data removed]",
      "text/plain": [
       "<Figure size 640x480 with 1 Axes>"
      ]
     },
     "metadata": {},
     "output_type": "display_data"
    }
   ],
   "source": [
    "#Problem 1 of Lab 1\n",
    "\n",
    "import matplotlib.pyplot as plot\n",
    "from numpy.random import normal\n",
    "import numpy as num\n",
    "import statistics\n",
    "\n",
    "#first gaussian samples\n",
    "sample1 = normal(-10, 5, 1000)\n",
    "\n",
    "#second gaussian samples\n",
    "sample2 = normal(10, 5, 1000)\n",
    "\n",
    "#sum of both distributions\n",
    "sum = sample1 + sample2\n",
    "\n",
    "#plotting a histogram of the sum\n",
    "plot.hist(sum, 500)\n",
    "\n",
    "#obtaining the mean of the sum\n",
    "mean = num.mean(sum)\n",
    "print('Mean is: ' + str(mean))\n",
    "\n",
    "#obtaining the variance of the sum\n",
    "variance = statistics.variance(sum)\n",
    "print('Variance of the sum is: ' + str(variance))"
   ]
  }
 ],
 "metadata": {
  "kernelspec": {
   "display_name": "Python 3.10.6 64-bit",
   "language": "python",
   "name": "python3"
  },
  "language_info": {
   "codemirror_mode": {
    "name": "ipython",
    "version": 3
   },
   "file_extension": ".py",
   "mimetype": "text/x-python",
   "name": "python",
   "nbconvert_exporter": "python",
   "pygments_lexer": "ipython3",
   "version": "3.10.6"
  },
  "orig_nbformat": 4,
  "vscode": {
   "interpreter": {
    "hash": "b0fa6594d8f4cbf19f97940f81e996739fb7646882a419484c72d19e05852a7e"
   }
  }
 },
 "nbformat": 4,
 "nbformat_minor": 2
}
